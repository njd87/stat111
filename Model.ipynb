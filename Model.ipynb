{
 "cells": [
  {
   "cell_type": "markdown",
   "metadata": {},
   "source": [
    "# PURPOSE\n",
    "\n",
    "The purpose of this file is to test relevent functions from the STAT111 Library"
   ]
  },
  {
   "cell_type": "markdown",
   "metadata": {},
   "source": [
    "## likelihood.py"
   ]
  },
  {
   "cell_type": "markdown",
   "metadata": {},
   "source": [
    "### \"likelihood_iid\" test"
   ]
  },
  {
   "cell_type": "code",
   "execution_count": 45,
   "metadata": {},
   "outputs": [
    {
     "name": "stdout",
     "output_type": "stream",
     "text": [
      "Simulated MLE 7.9925148315475925\n",
      "Actual MLE 7.992514834257556\n"
     ]
    }
   ],
   "source": [
    "import likelihood\n",
    "from scipy.stats import norm\n",
    "import matplotlib.pyplot as plt\n",
    "import numpy as np\n",
    "\n",
    "# generate data from the normal PDF, assuming variance of 4\n",
    "mu_true = 8\n",
    "sigma_true = 2\n",
    "data = norm.rvs(size=100, loc=mu_true, scale=sigma_true)\n",
    "\n",
    "# define likelihood function\n",
    "likelihood_normal = lambda y, theta: norm.pdf(y, loc=theta, scale=sigma_true)\n",
    "\n",
    "\n",
    "print(f'Simulated MLE {likelihood.likelihood_iid(data, likelihood_normal)}')\n",
    "print(f'Actual MLE {np.mean(data)}')"
   ]
  }
 ],
 "metadata": {
  "kernelspec": {
   "display_name": "Python 3",
   "language": "python",
   "name": "python3"
  },
  "language_info": {
   "codemirror_mode": {
    "name": "ipython",
    "version": 3
   },
   "file_extension": ".py",
   "mimetype": "text/x-python",
   "name": "python",
   "nbconvert_exporter": "python",
   "pygments_lexer": "ipython3",
   "version": "3.11.0"
  }
 },
 "nbformat": 4,
 "nbformat_minor": 2
}
