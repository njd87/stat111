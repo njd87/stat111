{
 "cells": [
  {
   "cell_type": "markdown",
   "metadata": {},
   "source": [
    "# PURPOSE\n",
    "\n",
    "The purpose of this file is to test relevent functions from the STAT111 Library"
   ]
  },
  {
   "cell_type": "markdown",
   "metadata": {},
   "source": [
    "## likelihood.py"
   ]
  },
  {
   "cell_type": "markdown",
   "metadata": {},
   "source": [
    "### \"likelihood_iid\" test"
   ]
  },
  {
   "cell_type": "code",
   "execution_count": 33,
   "metadata": {},
   "outputs": [
    {
     "name": "stdout",
     "output_type": "stream",
     "text": [
      "Simulated MLE 1.9874864990016947\n"
     ]
    }
   ],
   "source": [
    "import likelihood\n",
    "from scipy.stats import expon\n",
    "import matplotlib.pyplot as plt\n",
    "import numpy as np\n",
    "from sklearn.preprocessing import StandardScaler\n",
    "from sklearn.preprocessing import MinMaxScaler\n",
    "\n",
    "s = StandardScaler()\n",
    "\n",
    "# generate data from the normal PDF, assuming variance of 4\n",
    "mu_true = 8\n",
    "sigma_true = 2\n",
    "data = expon.rvs(size=1000, scale=1/sigma_true)\n",
    "\n",
    "estimator = likelihood.MLE(data)\n",
    "\n",
    "# define likelihood function\n",
    "likelihood_normal = lambda y, theta: expon.pdf(y, scale=theta)\n",
    "\n",
    "\n",
    "print(f\"Simulated MLE { estimator.iid_common('exponential', 'lambda') }\")"
   ]
  }
 ],
 "metadata": {
  "kernelspec": {
   "display_name": "Python 3",
   "language": "python",
   "name": "python3"
  },
  "language_info": {
   "codemirror_mode": {
    "name": "ipython",
    "version": 3
   },
   "file_extension": ".py",
   "mimetype": "text/x-python",
   "name": "python",
   "nbconvert_exporter": "python",
   "pygments_lexer": "ipython3",
   "version": "3.11.0"
  }
 },
 "nbformat": 4,
 "nbformat_minor": 2
}
